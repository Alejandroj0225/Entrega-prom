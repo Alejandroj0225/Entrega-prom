{
 "cells": [
  {
   "cell_type": "markdown",
   "id": "da1fd9de",
   "metadata": {},
   "source": [
    "1.Instalación de Transformers,importación de dependencias y cargar pipeline de resumen específica"
   ]
  },
  {
   "cell_type": "code",
   "execution_count": 1,
   "id": "5af79a75",
   "metadata": {
    "scrolled": true
   },
   "outputs": [
    {
     "name": "stdout",
     "output_type": "stream",
     "text": [
      "Defaulting to user installation because normal site-packages is not writeable\n",
      "Requirement already satisfied: transformers in c:\\users\\alela\\appdata\\roaming\\python\\python311\\site-packages (4.34.1)\n",
      "Requirement already satisfied: filelock in c:\\programdata\\anaconda3\\lib\\site-packages (from transformers) (3.9.0)\n",
      "Requirement already satisfied: huggingface-hub<1.0,>=0.16.4 in c:\\users\\alela\\appdata\\roaming\\python\\python311\\site-packages (from transformers) (0.17.3)\n",
      "Requirement already satisfied: numpy>=1.17 in c:\\programdata\\anaconda3\\lib\\site-packages (from transformers) (1.24.3)\n",
      "Requirement already satisfied: packaging>=20.0 in c:\\programdata\\anaconda3\\lib\\site-packages (from transformers) (23.1)\n",
      "Requirement already satisfied: pyyaml>=5.1 in c:\\programdata\\anaconda3\\lib\\site-packages (from transformers) (6.0)\n",
      "Requirement already satisfied: regex!=2019.12.17 in c:\\programdata\\anaconda3\\lib\\site-packages (from transformers) (2022.7.9)\n",
      "Requirement already satisfied: requests in c:\\programdata\\anaconda3\\lib\\site-packages (from transformers) (2.31.0)\n",
      "Requirement already satisfied: tokenizers<0.15,>=0.14 in c:\\users\\alela\\appdata\\roaming\\python\\python311\\site-packages (from transformers) (0.14.1)\n",
      "Requirement already satisfied: safetensors>=0.3.1 in c:\\programdata\\anaconda3\\lib\\site-packages (from transformers) (0.3.2)\n",
      "Requirement already satisfied: tqdm>=4.27 in c:\\programdata\\anaconda3\\lib\\site-packages (from transformers) (4.65.0)\n",
      "Requirement already satisfied: fsspec in c:\\programdata\\anaconda3\\lib\\site-packages (from huggingface-hub<1.0,>=0.16.4->transformers) (2023.4.0)\n",
      "Requirement already satisfied: typing-extensions>=3.7.4.3 in c:\\programdata\\anaconda3\\lib\\site-packages (from huggingface-hub<1.0,>=0.16.4->transformers) (4.7.1)\n",
      "Requirement already satisfied: colorama in c:\\programdata\\anaconda3\\lib\\site-packages (from tqdm>=4.27->transformers) (0.4.6)\n",
      "Requirement already satisfied: charset-normalizer<4,>=2 in c:\\programdata\\anaconda3\\lib\\site-packages (from requests->transformers) (2.0.4)\n",
      "Requirement already satisfied: idna<4,>=2.5 in c:\\programdata\\anaconda3\\lib\\site-packages (from requests->transformers) (3.4)\n",
      "Requirement already satisfied: urllib3<3,>=1.21.1 in c:\\users\\alela\\appdata\\roaming\\python\\python311\\site-packages (from requests->transformers) (2.0.7)\n",
      "Requirement already satisfied: certifi>=2017.4.17 in c:\\programdata\\anaconda3\\lib\\site-packages (from requests->transformers) (2023.7.22)\n"
     ]
    }
   ],
   "source": [
    "!pip install transformers\n",
    "\n",
    "from transformers import pipeline\n",
    "\n",
    "# Cargar el modelo de resumen de BART\n",
    "resumen = pipeline(\"summarization\", model=\"facebook/bart-large-cnn\")\n"
   ]
  },
  {
   "cell_type": "markdown",
   "id": "361f298a",
   "metadata": {},
   "source": [
    "2. Obtención de contenido directamente de página web"
   ]
  },
  {
   "cell_type": "code",
   "execution_count": 2,
   "id": "fbaa5c72",
   "metadata": {},
   "outputs": [
    {
     "name": "stdout",
     "output_type": "stream",
     "text": [
      "Defaulting to user installation because normal site-packages is not writeable\n",
      "Requirement already satisfied: requests in c:\\programdata\\anaconda3\\lib\\site-packages (2.31.0)\n",
      "Requirement already satisfied: beautifulsoup4 in c:\\programdata\\anaconda3\\lib\\site-packages (4.12.2)\n",
      "Requirement already satisfied: charset-normalizer<4,>=2 in c:\\programdata\\anaconda3\\lib\\site-packages (from requests) (2.0.4)\n",
      "Requirement already satisfied: idna<4,>=2.5 in c:\\programdata\\anaconda3\\lib\\site-packages (from requests) (3.4)\n",
      "Requirement already satisfied: urllib3<3,>=1.21.1 in c:\\users\\alela\\appdata\\roaming\\python\\python311\\site-packages (from requests) (2.0.7)\n",
      "Requirement already satisfied: certifi>=2017.4.17 in c:\\programdata\\anaconda3\\lib\\site-packages (from requests) (2023.7.22)\n",
      "Requirement already satisfied: soupsieve>1.2 in c:\\programdata\\anaconda3\\lib\\site-packages (from beautifulsoup4) (2.4)\n"
     ]
    }
   ],
   "source": [
    "!pip install requests beautifulsoup4\n",
    "import requests\n",
    "from bs4 import BeautifulSoup\n",
    "# Definir la URL del blog\n",
    "URL = \"https://www.xataka.com/analisis/iphone-15-pro-max-opiniones-toma-contacto-video-fotos\"\n",
    "\n",
    "# Realizar una solicitud HTTP para obtener el contenido de la página\n",
    "response = requests.get(URL)\n",
    "\n",
    "# Verificar si la solicitud fue exitosa (código de respuesta 200)\n",
    "if response.status_code == 200:\n",
    "    # Parsear el contenido HTML de la página con BeautifulSoup\n",
    "    soup = BeautifulSoup(response.text, 'html.parser')\n",
    "\n",
    "    # Extraer encabezados (h1) y párrafos (p) del blog\n",
    "    encabezados = soup.find_all('h1')\n",
    "    parrafos = soup.find_all('p')\n",
    "\n",
    "    # Crear una variable para almacenar el contenido del blog\n",
    "    contenido_blog = \"\"\n",
    "\n",
    "    # Agregar encabezados al contenido del blog\n",
    "    for h1 in encabezados:\n",
    "        contenido_blog += h1.get_text() + \"\\n\"\n",
    "\n",
    "    # Agregar párrafos al contenido del blog\n",
    "    for p in parrafos:\n",
    "        contenido_blog += p.get_text() + \"\\n\"\n",
    "\n",
    "    # Ahora, contenido_blog contiene el contenido del blog con encabezados (h1) y párrafos (p)\n",
    "else:\n",
    "    # En caso de que la solicitud no sea exitosa, manejar el error\n",
    "    print(\"Error al obtener la página:\", response.status_code)\n",
    "\n",
    "# Puedes acceder al contenido del blog en la variable contenido_blog\n",
    "\n"
   ]
  },
  {
   "cell_type": "code",
   "execution_count": 3,
   "id": "81bfd290",
   "metadata": {},
   "outputs": [
    {
     "data": {
      "text/plain": [
       "' iPhone 15 Pro Max, primeras impresiones: el primer iPhone de titanio va mucho más allá de la hoja técnica \\nHay dos formas de llegar a un mismo destino: construir un nuevo camino o seguir por el que ya conoces. La segunda opción es la que mejor describe la trayectoria de Apple con sus teléfonos y el iPhone 15 Pro Max no iba a ser una excepción. El candidato a mejor móvil de 2023 (y buena parte de 2024) ya está sobre la mesa de análisis, planteando una de las reviews más complejas a las que me he enfrentado.\\nNo será fácil explicar todos los cambios en cámara, procesador (aunque parezca que no hay tela por cortar aquí, la transición nos es menor) y conectividad. Mientras se cocina la review, por aquí tienes las primeras impresiones con el iPhone 15 Pro Max.\\n\\nAPPLE IPHONE 15 PRO max\\ndimensiones y peso\\n15,99 cm x 7,67 cm x 0,83 cm\\n221 g\\npantalla\\nSuper Retina XDR 6,7 pulgadas\\nProMotion 1 - 120 Hz\\nResolución 2.532 x 1.170 px\\n458 ppp\\nBrillo pico de 2.000 nits\\nContraste 2.000.000:1\\nprocesador\\nApple A17 Pro\\nram\\n8 GB\\nalmacenamiento\\n256/512 GB/1 TB\\ncámaras traseras\\n48 megapíxeles, f/1.78.\\n12 megapíxeles ultra gran angular, f/2.2\\n12 megapíxeles teleobjetivo 5x, f/2.8\\ncámara frontal\\n12 MP f/2.2\\nbatería\\n4,422mAh\\nsistema operativo\\niOS 17\\nconectividad\\n5G (sub-6 GHz)\\nLTE Gigabit con MIMO 4x4 y LAA\\nWiFi 6E\\nWifi 802.11ax (6.ª gen.) con MIMO 2x2\\nBluetooth 5.3\\nChip de banda ultraancha\\nNFC\\nCompatibilidad con Thread\\notros\\nIP68\\nSonido estéreo\\nFaceID\\nBotón de acción\\nprecio\\nDesde 1.469 euros\\niPhone 15 Pro Max\\nEn la review en profundidad detallaré los apartados de diseño, pantalla, cámara, procesador y autonomía de este teléfono. En estas primeras impresiones estoy convencido de que resultará de especial interés conocer cuáles son los cambios respecto a la generación interior y, lo más importante, si realmente se notan.\\nEste es el primer iPhone fabricado en titanio, pero no es el primer teléfono en implementar este material: el ya extinto Essential Phone estaba fabricado en aleación de titanio. En el caso de Apple, el iPhone 15 Pro Max está forjado en titanio de \"calidad aerospacial\". Es una denominación que llevan usando desde hace tiempo con otros materiales y que hace referencia a que esta misma aleación es con la que se fabrican las naves de las misiones espaciales.\\nEste contorno de titanio va unido a una estructura interna de aluminio que se ha renovado por completo. Esto es especialmente importante ya que ahora es mucho más sencillo extraer e instalar los vidrios en este teléfono. La ventaja directa para el usuario es que cambiar el cristal trasero para a costar 229 euros frente a los 669 euros del 14 Pro Max.\\nUna de las principales ventajas del titanio es su mejor relación resistencia-peso frente al acero. La traducción directa es que este iPhone ha adelgazado de forma notable. ¿Cuánto? Nada menos que 19 gramos. En un dispositivo que prácticamente calca las medidas de su antecesor, es un dato sobresaliente.\\n¿Cómo se nota en mano? Bien, muy bien, notablemente mejor que el 14 Pro Max. Es una extraña y agradable sensación de estar ante un teléfono con una calidad de fabricación sobresaliente y un peso al que no estoy demasiado habituado (en teléfonos de 6,7 pulgadas se suelen sobrepasar los 230 gramos). El cristal de la parte trasera es mate, bastante espectacular a nivel estético. Los bordes ahora son más curvos y no tan angulosos como en la generación anterior. Esto hace que sea aún más agradable sujetarlo en la mano.\\nSobre los laterales de la discordia y si se quedan o no marcadas las huellas he de decir que sí, se quedan marcadas, pero ni mucho menos es dramático respecto a modelos anteriores. Es algo que también sucede en mi iPhone 14 Pro de color blanco y que, como usuario de fundas, no me preocupa en exceso. Si eres de los aventureros que llevan el iPhone sin protección, te va a costar mantenerlo limpio.\\nOtro de los cambios está en el frontal: ahora la relación pantalla-bisel es más favorable. Según GSMarena, hemos pasado de un 88.3% a un 89.8%. Las matemáticas no engañan, y es algo que pensé nada más encender la pantalla: \"pues no es para tanto el tema de los marcos\". Es, por supuesto, un punto positivo y algo a agradecer en esta nueva generación. No obstante, si no tenemos delante un iPhone 14 Pro para comparar, la diferencia no es tan notable. El panel es técnicamente idéntico al del año pasado, aunque profundizaré sobre el mismo en el análisis.\\nUn resumen rápido: el iPhone 15 Pro Max tiene la mejor calidad de fabricación que he visto nunca en un iPhone. Titanio, cristal mate que apenas recoge huellas, una botonera que se siente incluso mejor construida, ligero, más redondeado... Sigue siendo un gigante de casi 16cm de alto (15,99 mm en 15 Pro Max vs 160,7 mm en 15 Pro Max, simplemente imperceptible), pero ahora es mucho más agradable.\\nEl cambio más relevante a nivel funcional en el nuevo diseño del iPhone 15 Pro Max merece un apartado independiente: el nuevo botón de acción. Apple ha dicho adiós al mítico interruptor de volumen que permitía silenciar el iPhone o ponerlo en sonido moviendo una pequeña pestaña.\\nHa decidido remplazarlo por un botón completamente personalizable, en el que podemos configurar modos de concentración, atajos, notas de voz, etc. El principal problema que le veo es que no basta con pulsarlo, hay que hacer una pulsación larga.\\nComo obseso de la ergonomía y practicidad, veo mucho más eficaz y rápido pulsar que dejar pulsado. Lo último son segundos extra y presión al dedo completamente innecesarias. Si configuro este botón como acceso directo a la cámara, quiero pulsarlo y que se abra la cámara. Si tardo ese segundo extra puedo perder la foto que quería hacer. Entiendo que el objetivo de Apple con esto es evitar abrir apps por error, pero al estar tan alto es prácticamente imposible tocarlo de forma involuntaria. Respecto a la ubicación del mismo, es más que correcta, se llega perfectamente con una mano.\\nRespecto al hardware hay tres grandes cambios: el procesador mejora en CPU y GPU, la memoria RAM sube hasta los 8 GB y -suenan campanas celestiales- por fin tienen puerto USB-C. En el caso de los modelos Pro y Pro Max, el USB-C trabaja bajo el estándar USB 3.2, con velocidades de hasta 10 Gbps. Si quieres disfrutar de esta cifra, tendrás que comprar un cable por tu cuenta: el renovado y bonito cable que viene en la caja es USB 2.0 y este estándar solo permite hasta 480 Mbps.\\nAntes de echarte las manos a la cabeza, conviene saber que esta es una práctica habitual en la gama alta, y que rivales como el Samsung Galaxy S23 Ultra llegan también con un cable 2.0 en la caja. Otros, como el Xiaomi 13 Pro o el OnePlus 11, directamente no son compatibles con USB-C 3.2. Lejos quede esta aclaración de justificar que en un móvil de más 1.400 euros no se incluya el cable 3.2, una práctica cuanto menos cuestionable.\\nRespecto al rendimiento, en la review pondremos a prueba el A17 Pro (pierde la denominación Bionic). Esta es una revisión del A16 Bionic en la que se han introducido mejoras en la microarquitectura del chip para potenciar la CPU en un 10% y la GPU en un 20%. El número de transistores pasa de 16.000 millones a 19.000 millones y el número de operaciones del Neural Engine salta hasta los 35 billones respecto a los 17 billones del SoC anterior.\\nPinta bien, muy bien, pero hasta el análisis no podremos desgranar todos los secretos de este nuevo microprocesador. En las horas que hemos estado probándolo, el móvil vuela. Ojalá fuese tan fácil dejar tan solo esa conclusión, pero se necesita tiempo para sacar la lupa y entender qué hay dentro de este iPhone.\\nLa cámara es siempre el apartado que más detenimiento requiere en una review de este calado. En el caso del iPhone 15 Pro Max el teleobjetivo 5X es uno de los protagonistas: nunca un iPhone tuvo tanta capacidad de zoom. Pese a ello, no es ni mucho menos el cambio más relevante de esta generación.\\nLos iPhone 15 Pro y Pro Max son los únicos teléfonos del mercado que disparan de forma nativa a 24 megapíxeles. \"Pero ya había sensores de 50, 100 y hasta 200 megapíxeles\", podrías pensar. Sí, pero todos y cada uno de ellos acababan disparando en 12 megapíxeles tras la agrupación mediante Pixel Binning. Apple se vale del formato HEIF (High Efficiency Image File) para lograr fotografías en 24 megapíxeles que ocupan incluso menos que los clásicos JPEG que solemos ver en Android (aunque muchos gama alta ya permiten disparar en formatos de alta eficiencia).\\nAdemás de este salto en resolución que, como explicaremos en la review, tiene que ver con el procesado general de la imagen y las capacidades del HDR, Apple ha querido aprovechar aún más el sensor de 48 megapíxeles para ofrecer hasta siete distancias focales de calidad \"óptica\":\\nPhotonic Engine (la tecnología computacional de Apple para mejorar sus fotografías) ahora funciona en modo noche y en modo retrato. Esto se traduce en que toda la capacidad de procesado ahora se transfiere a todo tipo de fotografías. Se ha mejorado Smart HDR, el recubrimiento de las lentes, el mapa de profundidad de modo retrato se genera de forma automática al reconocer una persona o animal...\\nPor el momento, lo que he podido probar me deja conclusiones claras: esta cámara tiene un mejor rango dinámico (hay muchos menos quemados) y el procesado es menos agresivo. La interpretación del color es más fiel a la realidad (sobre todo en colores como el amarillo) y los bordes ya no están tan excesivamente marcados como en la generación 14 Pro.\\nEsta no va a ser una cámara sencilla de analizar. Es necesario comprender su comportamiento en 24 megapíxeles, en modo forzado a 12 megapíxeles, modo automático en 48 megapíxeles, ProRAW en 48 megapíxeles, nitidez en 24, 28, 35 y 48mm, así como las cámaras secundarias. Todo un reto a resolver para responder a una pregunta muy directa: si este teléfono es o no el mejor exponente fotografíco del momento.\\nEste no es un iPhone especialmente llamativo si vienes de un iPhone 14 Pro Max. La pantalla es prácticamente la misma, el apartado del sonido no parece haber cambiado, será difícil notar las mejoras en rendimiento en este nivel de potencia y, en términos generales, es una evolución muy continuista. Pese a ello, como flagship en el contexto actual, tiene sólidos argumentos para luchar por la corona de mejor teléfono de 2023. La cámara es mejor, el acabado ha dado un salto adelante, tiene el primer procesador de tres nanómetros y la optimización de iOS 17 en su versión final es espectacular. Hacía tiempo que no probaba un software tan fluido (iOS 16 lo era, pero no así).\\nApple ha tenido a bien actualizar las cámaras de la generación anterior con la llegada de iOS 17, por lo que los grandes cambios en el 15 Pro Max pasan por el nuevo teleobjetivo, la nitidez que se pueda rescatar de los 24 megapíxeles y los pequeños cambios que iremos detallando en el análisis. Tengo muchas ganas de comprobar cómo ha evolucionado la cámara del iPhone 14 Pro con iOS 17 y sus mejoras frente a este teléfono, ya que no es demasiado habitual que Apple mejore también la cámara de la generación anterior.\\nMantener el mismo precio del año pasado duplicando la memoria interna, partiendo ahora de 256 GB es algo que pocos fabricantes pueden permitirse. 1.469 euros siguen siendo muchos euros, pero si hay un teléfono que puede justificar mediante su hoja técnica, acabado final y soporte en el medio y largo plazo, ese es el iPhone.\\nImagen | Xataka\\nEn Xataka | El iPhone 15 más barato es también el más atractivo. Las distancias con los Pro se recortan\\niPhone 15 Pro Max\\nLos mejores comentarios:\\nVer 36 comentarios\\nEn Xataka hablamos de...\\nVer más temas\\n\\nWebedia\\n\\n Tecnología \\n Videojuegos \\n Entretenimiento \\n Gastronomía \\n Estilo de vida \\nLatinoamérica\\nDestacamos\\n\\nVer más temas\\n\\n\\nSuscribir\\nMás sitios que te gustarán\\nReciente\\nVer más artículos\\n Xataka\\n     TV\\n\\nVer más vídeos\\n'"
      ]
     },
     "execution_count": 3,
     "metadata": {},
     "output_type": "execute_result"
    }
   ],
   "source": [
    "contenido_blog"
   ]
  },
  {
   "cell_type": "markdown",
   "id": "5f738813",
   "metadata": {},
   "source": [
    "3. División de texto en fragmentos"
   ]
  },
  {
   "cell_type": "code",
   "execution_count": 4,
   "id": "f5b0c63d",
   "metadata": {},
   "outputs": [],
   "source": [
    "fragmentos = []\n",
    "fragmento_actual = \"\"\n",
    "longitud_maxima = 1500\n",
    "\n",
    "for palabra in contenido_blog.split():\n",
    "    if len(fragmento_actual) + len(palabra) + 1 <= longitud_maxima:  # +1 para el espacio\n",
    "        if fragmento_actual:\n",
    "            fragmento_actual += \" \"\n",
    "        fragmento_actual += palabra\n",
    "    else:\n",
    "        fragmentos.append(fragmento_actual)\n",
    "        fragmento_actual = palabra\n",
    "\n",
    "if fragmento_actual:\n",
    "    fragmentos.append(fragmento_actual)\n"
   ]
  },
  {
   "cell_type": "code",
   "execution_count": 5,
   "id": "47446e2e",
   "metadata": {},
   "outputs": [
    {
     "data": {
      "text/plain": [
       "256"
      ]
     },
     "execution_count": 5,
     "metadata": {},
     "output_type": "execute_result"
    }
   ],
   "source": [
    "len(fragmentos[6].split(\" \"))"
   ]
  },
  {
   "cell_type": "code",
   "execution_count": 6,
   "id": "8114b04e",
   "metadata": {
    "scrolled": true
   },
   "outputs": [
    {
     "data": {
      "text/plain": [
       "'iPhone 15 Pro Max, primeras impresiones: el primer iPhone de titanio va mucho más allá de la hoja técnica Hay dos formas de llegar a un mismo destino: construir un nuevo camino o seguir por el que ya conoces. La segunda opción es la que mejor describe la trayectoria de Apple con sus teléfonos y el iPhone 15 Pro Max no iba a ser una excepción. El candidato a mejor móvil de 2023 (y buena parte de 2024) ya está sobre la mesa de análisis, planteando una de las reviews más complejas a las que me he enfrentado. No será fácil explicar todos los cambios en cámara, procesador (aunque parezca que no hay tela por cortar aquí, la transición nos es menor) y conectividad. Mientras se cocina la review, por aquí tienes las primeras impresiones con el iPhone 15 Pro Max. APPLE IPHONE 15 PRO max dimensiones y peso 15,99 cm x 7,67 cm x 0,83 cm 221 g pantalla Super Retina XDR 6,7 pulgadas ProMotion 1 - 120 Hz Resolución 2.532 x 1.170 px 458 ppp Brillo pico de 2.000 nits Contraste 2.000.000:1 procesador Apple A17 Pro ram 8 GB almacenamiento 256/512 GB/1 TB cámaras traseras 48 megapíxeles, f/1.78. 12 megapíxeles ultra gran angular, f/2.2 12 megapíxeles teleobjetivo 5x, f/2.8 cámara frontal 12 MP f/2.2 batería 4,422mAh sistema operativo iOS 17 conectividad 5G (sub-6 GHz) LTE Gigabit con MIMO 4x4 y LAA WiFi 6E Wifi 802.11ax (6.ª gen.) con MIMO 2x2 Bluetooth 5.3 Chip de banda ultraancha NFC Compatibilidad con Thread otros IP68 Sonido estéreo FaceID Botón de acción precio Desde 1.469 euros iPhone 15'"
      ]
     },
     "execution_count": 6,
     "metadata": {},
     "output_type": "execute_result"
    }
   ],
   "source": [
    "fragmentos[0]"
   ]
  },
  {
   "cell_type": "markdown",
   "id": "87050523",
   "metadata": {},
   "source": [
    "4. Resumir texto"
   ]
  },
  {
   "cell_type": "code",
   "execution_count": 7,
   "id": "6728632f",
   "metadata": {},
   "outputs": [],
   "source": [
    "resumenes = resumen(fragmentos, max_length=120, min_length=30, do_sample=False)\n",
    "\n",
    "# Extraer los resúmenes de los diccionarios\n",
    "Ex_resumenes = [item['summary_text'] for item in resumenes]\n",
    "\n",
    "# Compila todos los resúmenes con espacios\n",
    "texto_resumen = \" \".join(Ex_resumenes)"
   ]
  },
  {
   "cell_type": "code",
   "execution_count": 8,
   "id": "a63897d6",
   "metadata": {},
   "outputs": [
    {
     "data": {
      "text/plain": [
       "'El iPhone 15 Pro Max no iba a ser una excepción. El candidato a mejor móvil de 2023 (y buena parte de 2024) ya está sobre la mesa de análisis. No será fácil explicar todos los cambios en cámara, procesador (aunque parezca que no hay tela por cortar aquí, la transición nos es menor) El iPhone 15 Pro Max está forjado en titanio de \"calidad aerospacial\" Este contorno de titanio va unido a una estructura interna de aluminio. La ventaja directa para el usuario es that cambiar el cristal trasero para a costar 229 euros. El iPhone 15 Pro Max tiene la mejor calidad de fabricación. que el 14 Pro Max. El cristal de la parte trasera es mate, bastante espectacular a nivel estético. Los bordes ahora son más curvos y no tan angulosos. iPhone 15 Pro Max tiene un nuevo botón de acción personalizable. Apple ha adiós al mítico interruptor de volumen. Segundos extra y presión al dedo are innecesarias. El USB-C trabaja bajo el estándar USB 3.2, con velocidades de hasta 10 Gbps. Si quieres disfrutar de esta cifra, tendrás que comprar un cable por tu cuenta: el renovado y bonito cable que viene en la caja es USB 2.0. Otros, como el Xiaomi 13 Pro o el OnePlus 11, directamente no son compatibles with USB- C. The iPhone 15 Pro and Pro Max son los únicos teléfonos del mercado que disparan de forma nativa a 24 megapíxeles. Apple se vale del formato HEIF (High Efficiency Image File) para lograr fotografías en 24 megapixel. Se ha mejorado Smart HDR, el tecnología computacional de Apple para mejore sus fotos. Este no es un iPhone especialmente llamativo si vienes de un iPhone 14 Pro Max. La cámara es mejor, el acabado ha dado un salto adelante, tiene el primer procesador de tres nanómetros. La optimización of iOS 17 en su versión final es espectacular. Apple has actualizado las cámaras de la generación anterior con la llegada of iOS 17. La nitidez que se pueda rescatar de los 24 megapíxeles y los pequeños cambios que iremos detallando en el análisis.'"
      ]
     },
     "execution_count": 8,
     "metadata": {},
     "output_type": "execute_result"
    }
   ],
   "source": [
    "texto_resumen"
   ]
  },
  {
   "cell_type": "markdown",
   "id": "5cc50410",
   "metadata": {},
   "source": [
    "5. Guardar en un Archivo de Texto"
   ]
  },
  {
   "cell_type": "code",
   "execution_count": null,
   "id": "2e1dd484",
   "metadata": {},
   "outputs": [],
   "source": [
    "with open('resumenblog2.txt', 'w', encoding='utf-8') as archivo:\n",
    "    archivo.write(texto_resumen)\n"
   ]
  }
 ],
 "metadata": {
  "kernelspec": {
   "display_name": "Python 3 (ipykernel)",
   "language": "python",
   "name": "python3"
  },
  "language_info": {
   "codemirror_mode": {
    "name": "ipython",
    "version": 3
   },
   "file_extension": ".py",
   "mimetype": "text/x-python",
   "name": "python",
   "nbconvert_exporter": "python",
   "pygments_lexer": "ipython3",
   "version": "3.11.5"
  }
 },
 "nbformat": 4,
 "nbformat_minor": 5
}
